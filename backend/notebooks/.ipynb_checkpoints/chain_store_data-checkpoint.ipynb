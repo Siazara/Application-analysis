{
 "cells": [
  {
   "cell_type": "code",
   "execution_count": 2,
   "id": "52a2d3c0",
   "metadata": {},
   "outputs": [],
   "source": [
    "import pandas as pd\n",
    "\n",
    "import numpy as np\n",
    "\n",
    "from datetime import datetime, timedelta"
   ]
  },
  {
   "cell_type": "markdown",
   "id": "648a3deb",
   "metadata": {},
   "source": [
    "category1: baguette, oil, tomato, pickle, cheese, sauce -> high consumption\n",
    "\n",
    "category2: bacon, sausage, pepperoni, chicken\n",
    "\n",
    "category3: water, soda"
   ]
  },
  {
   "cell_type": "code",
   "execution_count": 3,
   "id": "4b9382eb",
   "metadata": {},
   "outputs": [],
   "source": [
    "bacon = {'baguette': 0, 'oil': 0, 'tomato': 1, 'pickle': 1, 'cheese': 2, 'sauce': 2, 'bacon': 2, 'sausage': 1, 'pepperoni': 0, 'chicken': 0}\n",
    "sausage = {'baguette': 1, 'oil': 2, 'tomato': 2, 'pickle': 2, 'cheese': 1, 'sauce': 1, 'bacon': 0, 'sausage': 2, 'pepperoni': 0, 'chicken': 0}\n",
    "pepperoni = {'baguette': 0, 'oil': 0, 'tomato': 0, 'pickle': 0, 'cheese': 1, 'sauce': 2, 'bacon': 1, 'sausage': 0, 'pepperoni': 2, 'chicken': 0}\n",
    "chicken = {'baguette': 0, 'oil': 2, 'tomato': 0, 'pickle': 0, 'cheese': 0, 'sauce': 1, 'bacon': 0, 'sausage': 0, 'pepperoni': 0, 'chicken': 2}\n"
   ]
  },
  {
   "cell_type": "code",
   "execution_count": 3,
   "id": "8e6c9784",
   "metadata": {},
   "outputs": [
    {
     "name": "stdout",
     "output_type": "stream",
     "text": [
      "2021-05-14 00:00:00 {'baguette': 473.0, 'oil': 344.0, 'tomato': 538.0, 'pickle': 488.0, 'cheese': 393.0, 'sauce': 447.0, 'bacon': 120.0, 'sausage': 58.0, 'pepperoni': 142.0, 'chicken': 96.0} {'water': 689, 'soda': 737}\n",
      "2021-05-15 00:00:00 {'baguette': 469.0, 'oil': 276.0, 'tomato': 521.0, 'pickle': 471.0, 'cheese': 364.0, 'sauce': 381.0, 'bacon': 95.0, 'sausage': 41.0, 'pepperoni': 128.0, 'chicken': 36.0} {'water': 659, 'soda': 719}\n",
      "2021-05-16 00:00:00 {'baguette': 453.0, 'oil': 238.0, 'tomato': 478.0, 'pickle': 428.0, 'cheese': 306.0, 'sauce': 300.0, 'bacon': 53.0, 'sausage': -2.0, 'pepperoni': 88.0, 'chicken': 30.0} {'water': 632, 'soda': 681}\n",
      "2021-05-17 00:00:00 {'baguette': 434.0, 'oil': 184.0, 'tomato': 426.0, 'pickle': 376.0, 'cheese': 251.0, 'sauce': 229.0, 'bacon': 17.0, 'sausage': -54.0, 'pepperoni': 72.0, 'chicken': 14.0} {'water': 585, 'soda': 663}\n",
      "2021-05-18 00:00:00 {'baguette': 405.0, 'oil': 120.0, 'tomato': 359.0, 'pickle': 309.0, 'cheese': 195.0, 'sauce': 161.0, 'bacon': -10.0, 'sausage': -121.0, 'pepperoni': 54.0, 'chicken': 8.0} {'water': 541, 'soda': 644}\n",
      "2021-05-19 00:00:00 {'baguette': 402.0, 'oil': 70.0, 'tomato': 341.0, 'pickle': 291.0, 'cheese': 156.0, 'sauce': 88.0, 'bacon': -46.0, 'sausage': -139.0, 'pepperoni': 30.0, 'chicken': -36.0} {'water': 501, 'soda': 644}\n",
      "2021-05-20 00:00:00 {'baguette': 401.0, 'oil': 42.0, 'tomato': 312.0, 'pickle': 262.0, 'cheese': 92.0, 'sauce': 2.0, 'bacon': -109.0, 'sausage': -168.0, 'pepperoni': 12.0, 'chicken': -62.0} {'water': 488, 'soda': 636}\n",
      "2021-05-21 00:00:00 {'baguette': 381.0, 'oil': -12.0, 'tomato': 259.0, 'pickle': 209.0, 'cheese': 36.0, 'sauce': -71.0, 'bacon': -145.0, 'sausage': -221.0, 'pepperoni': -8.0, 'chicken': -76.0} {'water': 455, 'soda': 616}\n",
      "2021-05-22 00:00:00 {'baguette': 377.0, 'oil': -62.0, 'tomato': 229.0, 'pickle': 179.0, 'cheese': -15.0, 'sauce': -146.0, 'bacon': -192.0, 'sausage': -251.0, 'pepperoni': -14.0, 'chicken': -118.0} {'water': 408, 'soda': 604}\n",
      "2021-05-23 00:00:00 {'baguette': 371.0, 'oil': -76.0, 'tomato': 193.0, 'pickle': 143.0, 'cheese': -88.0, 'sauce': -239.0, 'bacon': -259.0, 'sausage': -287.0, 'pepperoni': -52.0, 'chicken': -120.0} {'water': 404, 'soda': 594}\n"
     ]
    }
   ],
   "source": [
    "def store_stock(date, stock, drink, n):\n",
    "    \n",
    "    a = np.random.randint(n, size=4)\n",
    "    orders = (n * (a / a.sum())).round()\n",
    "        \n",
    "    b = np.array(list(stock.values()), dtype=float)\n",
    "    b -= (orders[0] * np.array(list(bacon.values())) + \\\n",
    "            orders[1] * np.array(list(sausage.values())) + \\\n",
    "            orders[2] * np.array(list(pepperoni.values())) + \\\n",
    "            orders[3] * np.array(list(chicken.values())))\n",
    "    \n",
    "    stock = {k: b[i] for i, k in enumerate(stock.keys())}\n",
    "    \n",
    "    drink_orders = np.random.randint(n, size=2)\n",
    "    drink = {k: drink[k]-drink_orders[i] for i, k in enumerate(drink.keys())}\n",
    "    \n",
    "    return date + timedelta(days=1), stock, drink\n",
    "\n",
    "date = datetime(2021, 5, 13)\n",
    "stock = {'baguette': 500, 'oil': 402, 'tomato': 600, 'pickle': 550, 'cheese': 450, 'sauce': 520, 'bacon': 150, 'sausage': 120, 'pepperoni': 170, 'chicken': 100}\n",
    "drink = {'water': 700, 'soda': 750}\n",
    "\n",
    "for _ in range(10):\n",
    "    date, stock, drink = store_stock(date, stock, drink, 50)\n",
    "    print(date, stock, drink)"
   ]
  },
  {
   "cell_type": "code",
   "execution_count": 4,
   "id": "f57c44c1",
   "metadata": {},
   "outputs": [],
   "source": [
    "def store_consumption(date, consumption, drink_consumption, n):\n",
    "    \n",
    "    a = np.random.randint(n, size=4)\n",
    "    orders = (n * (a / a.sum())).round()\n",
    "        \n",
    "    b = (orders[0] * np.array(list(bacon.values())) + \\\n",
    "                    orders[1] * np.array(list(sausage.values())) + \\\n",
    "                    orders[2] * np.array(list(pepperoni.values())) + \\\n",
    "                    orders[3] * np.array(list(chicken.values())))\n",
    "    \n",
    "    consumption = {k: b[i] for i, k in enumerate(consumption.keys())}\n",
    "    \n",
    "    drink_orders = np.random.randint(n, size=2)\n",
    "    drink_consumption = {k: drink_orders[i] for i, k in enumerate(drink_consumption.keys())}\n",
    "    \n",
    "    return consumption, drink_consumption\n",
    "\n",
    "date = datetime(2021, 5, 13)\n",
    "n_stores = 10\n",
    "consumption = [{'baguette': 0, 'oil': 0, 'tomato': 0, 'pickle': 0, 'cheese': 0, 'sauce': 0, 'bacon': 0, 'sausage': 0, 'pepperoni': 0, 'chicken': 0}\n",
    "              for _ in range(n_stores)]\n",
    "drink_consumption = [{'water': 0, 'soda': 0}\n",
    "                     for _ in range(n_stores)]\n",
    "\n",
    "data = []\n",
    "popularity = np.random.randint(50, 500, n_stores)\n",
    "for _ in range(365):\n",
    "    date += timedelta(days=1)\n",
    "    for i in range(n_stores):\n",
    "        consumption[i], drink_consumption[i] = store_consumption(date, consumption[i], drink_consumption[i], popularity[i])\n",
    "        data.append([f\"store_{i}\"] + [date] + list(consumption[i].values()) + list(drink_consumption[i].values()))\n",
    "\n",
    "df = pd.DataFrame(data)\n",
    "\n",
    "df.columns = [\"store\", \"date\"] + list(consumption[0].keys()) + list(drink_consumption[0].keys())"
   ]
  },
  {
   "cell_type": "code",
   "execution_count": 5,
   "id": "4918977e",
   "metadata": {},
   "outputs": [
    {
     "data": {
      "text/html": [
       "<div>\n",
       "<style scoped>\n",
       "    .dataframe tbody tr th:only-of-type {\n",
       "        vertical-align: middle;\n",
       "    }\n",
       "\n",
       "    .dataframe tbody tr th {\n",
       "        vertical-align: top;\n",
       "    }\n",
       "\n",
       "    .dataframe thead th {\n",
       "        text-align: right;\n",
       "    }\n",
       "</style>\n",
       "<table border=\"1\" class=\"dataframe\">\n",
       "  <thead>\n",
       "    <tr style=\"text-align: right;\">\n",
       "      <th></th>\n",
       "      <th>store</th>\n",
       "      <th>date</th>\n",
       "      <th>baguette</th>\n",
       "      <th>oil</th>\n",
       "      <th>tomato</th>\n",
       "      <th>pickle</th>\n",
       "      <th>cheese</th>\n",
       "      <th>sauce</th>\n",
       "      <th>bacon</th>\n",
       "      <th>sausage</th>\n",
       "      <th>pepperoni</th>\n",
       "      <th>chicken</th>\n",
       "      <th>water</th>\n",
       "      <th>soda</th>\n",
       "    </tr>\n",
       "  </thead>\n",
       "  <tbody>\n",
       "    <tr>\n",
       "      <th>0</th>\n",
       "      <td>store_0</td>\n",
       "      <td>2021-05-14</td>\n",
       "      <td>69.0</td>\n",
       "      <td>258.0</td>\n",
       "      <td>274.0</td>\n",
       "      <td>274.0</td>\n",
       "      <td>433.0</td>\n",
       "      <td>585.0</td>\n",
       "      <td>364.0</td>\n",
       "      <td>274.0</td>\n",
       "      <td>184.0</td>\n",
       "      <td>120.0</td>\n",
       "      <td>146</td>\n",
       "      <td>109</td>\n",
       "    </tr>\n",
       "    <tr>\n",
       "      <th>1</th>\n",
       "      <td>store_1</td>\n",
       "      <td>2021-05-14</td>\n",
       "      <td>98.0</td>\n",
       "      <td>348.0</td>\n",
       "      <td>247.0</td>\n",
       "      <td>247.0</td>\n",
       "      <td>246.0</td>\n",
       "      <td>368.0</td>\n",
       "      <td>148.0</td>\n",
       "      <td>247.0</td>\n",
       "      <td>92.0</td>\n",
       "      <td>152.0</td>\n",
       "      <td>145</td>\n",
       "      <td>82</td>\n",
       "    </tr>\n",
       "    <tr>\n",
       "      <th>2</th>\n",
       "      <td>store_2</td>\n",
       "      <td>2021-05-14</td>\n",
       "      <td>19.0</td>\n",
       "      <td>152.0</td>\n",
       "      <td>45.0</td>\n",
       "      <td>45.0</td>\n",
       "      <td>34.0</td>\n",
       "      <td>92.0</td>\n",
       "      <td>15.0</td>\n",
       "      <td>45.0</td>\n",
       "      <td>2.0</td>\n",
       "      <td>114.0</td>\n",
       "      <td>43</td>\n",
       "      <td>39</td>\n",
       "    </tr>\n",
       "    <tr>\n",
       "      <th>3</th>\n",
       "      <td>store_3</td>\n",
       "      <td>2021-05-14</td>\n",
       "      <td>10.0</td>\n",
       "      <td>42.0</td>\n",
       "      <td>39.0</td>\n",
       "      <td>39.0</td>\n",
       "      <td>67.0</td>\n",
       "      <td>97.0</td>\n",
       "      <td>57.0</td>\n",
       "      <td>39.0</td>\n",
       "      <td>38.0</td>\n",
       "      <td>22.0</td>\n",
       "      <td>22</td>\n",
       "      <td>5</td>\n",
       "    </tr>\n",
       "    <tr>\n",
       "      <th>4</th>\n",
       "      <td>store_4</td>\n",
       "      <td>2021-05-14</td>\n",
       "      <td>70.0</td>\n",
       "      <td>244.0</td>\n",
       "      <td>200.0</td>\n",
       "      <td>200.0</td>\n",
       "      <td>262.0</td>\n",
       "      <td>386.0</td>\n",
       "      <td>192.0</td>\n",
       "      <td>200.0</td>\n",
       "      <td>144.0</td>\n",
       "      <td>104.0</td>\n",
       "      <td>1</td>\n",
       "      <td>214</td>\n",
       "    </tr>\n",
       "  </tbody>\n",
       "</table>\n",
       "</div>"
      ],
      "text/plain": [
       "     store       date  baguette    oil  tomato  pickle  cheese  sauce  bacon  \\\n",
       "0  store_0 2021-05-14      69.0  258.0   274.0   274.0   433.0  585.0  364.0   \n",
       "1  store_1 2021-05-14      98.0  348.0   247.0   247.0   246.0  368.0  148.0   \n",
       "2  store_2 2021-05-14      19.0  152.0    45.0    45.0    34.0   92.0   15.0   \n",
       "3  store_3 2021-05-14      10.0   42.0    39.0    39.0    67.0   97.0   57.0   \n",
       "4  store_4 2021-05-14      70.0  244.0   200.0   200.0   262.0  386.0  192.0   \n",
       "\n",
       "   sausage  pepperoni  chicken  water  soda  \n",
       "0    274.0      184.0    120.0    146   109  \n",
       "1    247.0       92.0    152.0    145    82  \n",
       "2     45.0        2.0    114.0     43    39  \n",
       "3     39.0       38.0     22.0     22     5  \n",
       "4    200.0      144.0    104.0      1   214  "
      ]
     },
     "execution_count": 5,
     "metadata": {},
     "output_type": "execute_result"
    }
   ],
   "source": [
    "df.head()"
   ]
  },
  {
   "cell_type": "code",
   "execution_count": 6,
   "id": "405c3d52",
   "metadata": {},
   "outputs": [],
   "source": [
    "df.to_csv(\"./chain_store_data.csv\", index=False)"
   ]
  },
  {
   "cell_type": "code",
   "execution_count": 7,
   "id": "bd9a4810",
   "metadata": {},
   "outputs": [],
   "source": [
    "latest_consumption = df.groupby(\"store\").last().reset_index()\n",
    "latest_consumption.index.rename(\"id\", inplace=True)\n",
    "latest_consumption.to_csv(\"../latest_consumption.csv\")"
   ]
  },
  {
   "cell_type": "code",
   "execution_count": 13,
   "id": "2593b8a7",
   "metadata": {},
   "outputs": [
    {
     "name": "stderr",
     "output_type": "stream",
     "text": [
      "/tmp/ipykernel_549301/2624024575.py:1: FutureWarning: The default value of numeric_only in DataFrameGroupBy.mean is deprecated. In a future version, numeric_only will default to False. Either specify numeric_only or select only columns which should be valid for the function.\n",
      "  df.groupby(\"store\").mean().to_csv(\"../thresholds.csv\")\n"
     ]
    }
   ],
   "source": [
    "df.groupby(\"store\").mean().to_csv(\"../thresholds.csv\")"
   ]
  },
  {
   "cell_type": "code",
   "execution_count": 14,
   "id": "46ebbf3f",
   "metadata": {},
   "outputs": [
    {
     "name": "stderr",
     "output_type": "stream",
     "text": [
      "/tmp/ipykernel_549301/1918079778.py:1: FutureWarning: The default value of numeric_only in DataFrameGroupBy.mean is deprecated. In a future version, numeric_only will default to False. Either specify numeric_only or select only columns which should be valid for the function.\n",
      "  df.groupby(\"store\").mean().to_json(\"../thresholds.json\")\n"
     ]
    }
   ],
   "source": [
    "df.groupby(\"store\").mean().to_json(\"../thresholds.json\", orient=\"index\")"
   ]
  },
  {
   "cell_type": "code",
   "execution_count": null,
   "id": "2891867c",
   "metadata": {},
   "outputs": [],
   "source": []
  },
  {
   "cell_type": "code",
   "execution_count": null,
   "id": "213b82a8",
   "metadata": {},
   "outputs": [],
   "source": []
  }
 ],
 "metadata": {
  "kernelspec": {
   "display_name": "Python 3 (ipykernel)",
   "language": "python",
   "name": "python3"
  },
  "language_info": {
   "codemirror_mode": {
    "name": "ipython",
    "version": 3
   },
   "file_extension": ".py",
   "mimetype": "text/x-python",
   "name": "python",
   "nbconvert_exporter": "python",
   "pygments_lexer": "ipython3",
   "version": "3.9.2"
  }
 },
 "nbformat": 4,
 "nbformat_minor": 5
}
